{
 "cells": [
  {
   "cell_type": "code",
   "id": "initial_id",
   "metadata": {
    "collapsed": true
   },
   "source": [
    "# Data Cleaning and Preparation exercise\n",
    "\n",
    "import pandas as pd\n",
    "sales_file = \"data/Practice datasets/sales data.xlsx\"\n",
    "\n",
    "# Load the excel data into a pandas dataframe\n",
    "sales_df = pd.read_excel(sales_file)\n",
    "print(sales_df.head())\n",
    "\n",
    "# I guess this is Hello World! of Jupyter Notebooks?"
   ],
   "outputs": [],
   "execution_count": null
  }
 ],
 "metadata": {
  "kernelspec": {
   "display_name": "Python 3",
   "language": "python",
   "name": "python3"
  },
  "language_info": {
   "codemirror_mode": {
    "name": "ipython",
    "version": 2
   },
   "file_extension": ".py",
   "mimetype": "text/x-python",
   "name": "python",
   "nbconvert_exporter": "python",
   "pygments_lexer": "ipython2",
   "version": "2.7.6"
  }
 },
 "nbformat": 4,
 "nbformat_minor": 5
}
